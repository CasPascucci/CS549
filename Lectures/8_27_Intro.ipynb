{
 "cells": [
  {
   "cell_type": "markdown",
   "id": "2c2344ff",
   "metadata": {},
   "source": [
    "# Wed 8/27 Lecture\n",
    "### Python and Numpy Basics\n",
    "\n",
    "Ok this was actually all stuff already known, leaving this doc just for completion's sake."
   ]
  },
  {
   "cell_type": "code",
   "execution_count": 24,
   "id": "f6238ca3",
   "metadata": {},
   "outputs": [],
   "source": [
    "import numpy as np"
   ]
  },
  {
   "cell_type": "code",
   "execution_count": 25,
   "id": "cb1516d3",
   "metadata": {},
   "outputs": [
    {
     "name": "stdout",
     "output_type": "stream",
     "text": [
      "13\n",
      "13\n",
      "[[  2   1   5]\n",
      " [ -8  -4 -20]\n",
      " [  6   3  15]]\n",
      "5.477225575051661\n"
     ]
    }
   ],
   "source": [
    "u = np.array([1,-4,3])\n",
    "v = np.array([2,1,5])\n",
    "print(u.transpose() @ v)\n",
    "print(v.transpose() @ u)\n",
    "print(np.outer(u,v))\n",
    "print(np.linalg.norm(u-v))"
   ]
  }
 ],
 "metadata": {
  "kernelspec": {
   "display_name": "CS549",
   "language": "python",
   "name": "python3"
  },
  "language_info": {
   "codemirror_mode": {
    "name": "ipython",
    "version": 3
   },
   "file_extension": ".py",
   "mimetype": "text/x-python",
   "name": "python",
   "nbconvert_exporter": "python",
   "pygments_lexer": "ipython3",
   "version": "3.12.11"
  }
 },
 "nbformat": 4,
 "nbformat_minor": 5
}
