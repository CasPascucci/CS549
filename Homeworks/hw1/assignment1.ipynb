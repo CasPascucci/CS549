{
 "cells": [
  {
   "cell_type": "markdown",
   "id": "6a685c54",
   "metadata": {},
   "source": [
    "# CS549 Machine Learning  \n",
    "## Assignment 1\n",
    "\n",
    "**Total: 100 points**\n",
    "- Section 1: 20 points\n",
    "- Section 2: 15 points\n",
    "- Section 3: 40 points\n",
    "- Section 4: 25 points\n",
    "\n",
    "In this assignment, you will solve several Python and NumPy problems. You are encouraged to refer to the official documentation (Python: [docs.python.org/3](https://docs.python.org/3/); NumPy: [numpy.org/doc](https://numpy.org/doc)) to aid your understanding.\n",
    "\n",
    "Complete the code cells by filling in the blanks (indicated by `None` or #TODO:...), and ensure that the output matches the expected output.\n",
    "\n",
    "In addition, some questions require written explanations. These are designed to test your understanding of the concepts.\n"
   ]
  },
  {
   "cell_type": "markdown",
   "id": "0e1a1c1a-c110-4032-9fe3-5bdb1464cdab",
   "metadata": {},
   "source": [
    "# Section 1: Python and NumPy Basics  \n",
    "This section includes the following coding tasks:\n",
    "- Task 1 (8 pts): Palindrome and character count  \n",
    "- Task 2 (4 pts): Data normalization  \n",
    "- Task 3 (5 pts): NumPy slicing and reshaping  \n",
    "- Task 4 (3 pts): Matrix multiplication with random seed"
   ]
  },
  {
   "cell_type": "markdown",
   "id": "03162a4e",
   "metadata": {},
   "source": [
    "### **Task 1 (8 points): Palindrome and Character Count**  \n",
    "Check if the string is a palindrome (ignoring spaces), and count the frequency of each character.\n",
    "\n",
    "**Expected output example**:\n",
    "```\n",
    "Palindrome? False\n",
    "Character counts: {'m': 2, 'a': 4, 'd': 2, 'l': 1, 'o': 1, 'v': 1, 'e': 1, 's': 1, 't': 1}\n",
    "```"
   ]
  },
  {
   "cell_type": "code",
   "execution_count": 4,
   "id": "60725fb3",
   "metadata": {},
   "outputs": [
    {
     "name": "stdout",
     "output_type": "stream",
     "text": [
      "Palindrome? False\n",
      "Character counts: {'m': 2, 'a': 4, 'd': 2, 'l': 1, 'o': 1, 'v': 1, 'e': 1, 's': 1, 't': 1}\n"
     ]
    }
   ],
   "source": [
    "text = \"madam loves data\"\n",
    "\n",
    "#### START YOUR CODE ####\n",
    "# 1. Check if string is palindrome (ignoring spaces) \n",
    "#TODO: remove space (2pts)\n",
    "text= text.replace(\" \", \"\")\n",
    "#TODO: check if string is palindrome (2pts)\n",
    "is_palindrome = text == text[::-1]\n",
    "\n",
    "# 2. Count frequency of each character (ignore spaces) \n",
    "char_counts = {}\n",
    "for char in text:\n",
    "    char_counts[char] = char_counts.get(char, 0) + 1\n",
    "\n",
    "#### END YOUR CODE ####\n",
    "\n",
    "print(\"Palindrome?\", is_palindrome)\n",
    "print(\"Character counts:\", char_counts)"
   ]
  },
  {
   "cell_type": "markdown",
   "id": "0a3c1d28",
   "metadata": {},
   "source": [
    "### **Task 2 (4 points): Data Normalization**    \n",
    "Given numerical data, compute mean, standard deviation, and normalized values. Normalization is a common preprocessing step in ML that rescales numerical data into a standard range (e.g., 0 to 1).\n",
    "\n",
    "**Expected output**:\n",
    "```\n",
    "Original Data: [5, 15, 25, 35, 45]\n",
    "Mean: 25.0, Std: 14.1421\n",
    "Normalized Data: [0.0, 0.25, 0.5, 0.75, 1.0]\n",
    "```\n"
   ]
  },
  {
   "cell_type": "code",
   "execution_count": 11,
   "id": "8826f974",
   "metadata": {},
   "outputs": [
    {
     "name": "stdout",
     "output_type": "stream",
     "text": [
      "Original Data: [5, 15, 25, 35, 45]\n",
      "Mean: 25.0 Std: 14.142135623730951\n",
      "Normalized Data: [0.0, 0.25, 0.5, 0.75]\n"
     ]
    }
   ],
   "source": [
    "import numpy as np\n",
    "# Given dataset\n",
    "data = [5, 15, 25, 35, 45]\n",
    "\n",
    "#### START YOUR CODE ####\n",
    "# 1. Find the mean and standard deviation values in the list (2 pts, 1pt each)\n",
    "mean_val = np.mean(data)\n",
    "std_val = np.std(data)\n",
    "\n",
    "# 2. Apply Min-Max normalization formula: (x - min) / (max - min). Please use write code for the calculation (2 pts)\n",
    "dataMin = min(data)\n",
    "dataMax = max(data)\n",
    "normalized_data = []\n",
    "for n in range(len(data)-1):\n",
    "    normalized_data.append((data[n]-dataMin)/(dataMax-dataMin))\n",
    "\n",
    "#### END YOUR CODE ####\n",
    "\n",
    "print(\"Original Data:\", data)\n",
    "print(\"Mean:\", mean_val, \"Std:\", std_val)\n",
    "print(\"Normalized Data:\", normalized_data)\n"
   ]
  },
  {
   "cell_type": "markdown",
   "id": "8f68e0f3",
   "metadata": {},
   "source": [
    "### **Task 3 (5 points): NumPy Slicing and Reshaping**  \n",
    "Create an array of numbers 1–20, reshape to 5x4, extract the last two rows, and compute column sums.\n",
    "\n",
    "**Expected output**:\n",
    "```\n",
    "Reshaped array (5x4):\n",
    "[[ 1  2  3  4]\n",
    " ...\n",
    " [17 18 19 20]]\n",
    "Last two rows:\n",
    "[[13 14 15 16]\n",
    " [17 18 19 20]]\n",
    "Column sums: [45 50 55 60]\n",
    "```"
   ]
  },
  {
   "cell_type": "code",
   "execution_count": 20,
   "id": "fa72e89d",
   "metadata": {},
   "outputs": [
    {
     "name": "stdout",
     "output_type": "stream",
     "text": [
      "Reshaped array (5x4):\n",
      " [[ 1.  2.  3.  4.]\n",
      " [ 5.  6.  7.  8.]\n",
      " [ 9. 10. 11. 12.]\n",
      " [13. 14. 15. 16.]\n",
      " [17. 18. 19. 20.]]\n",
      "Last two rows:\n",
      " [[13. 14. 15. 16.]\n",
      " [17. 18. 19. 20.]]\n",
      "Column sums: [45. 50. 55. 60.]\n"
     ]
    }
   ],
   "source": [
    "#### START YOUR CODE ####\n",
    "# Create array from 1 to 20  (1pt)\n",
    "arr = np.linspace(1,20,20)\n",
    "\n",
    "# Reshape into 5x4 (1pt)\n",
    "arr_reshaped = np.reshape(arr, (5,4))\n",
    "\n",
    "# Extract last two rows (2pts)\n",
    "last_two = arr_reshaped[-2:,:]\n",
    "\n",
    "# Column sums (1pt)\n",
    "col_sums = np.sum(arr_reshaped,0)\n",
    "#### END YOUR CODE ####\n",
    "\n",
    "print(\"Reshaped array (5x4):\\n\", arr_reshaped)\n",
    "print(\"Last two rows:\\n\", last_two)\n",
    "print(\"Column sums:\", col_sums)"
   ]
  },
  {
   "cell_type": "markdown",
   "id": "78484098",
   "metadata": {},
   "source": [
    "### **Task 4 (3 points): Matrix Multiplication with Random Seed**  \n",
    "Generate two 3x3 matrices with random integers using `np.random.seed(42)` and multiply them. Hint: use `np.random.randint`.\n",
    "\n",
    "**Expected output** (with seed 42):\n",
    "```\n",
    "Matrix A:\n",
    "[[6 3 7]\n",
    " [4 6 9]\n",
    " [2 6 7]]\n",
    "Matrix B:\n",
    "[[4 3 7]\n",
    " [7 2 5]\n",
    " [4 1 7]]\n",
    "Result (A*B):\n",
    "[[...]]\n",
    "```\n"
   ]
  },
  {
   "cell_type": "code",
   "execution_count": 21,
   "id": "73a6f0f6",
   "metadata": {},
   "outputs": [
    {
     "name": "stdout",
     "output_type": "stream",
     "text": [
      "Matrix A:\n",
      " [[7 4 8]\n",
      " [5 7 3]\n",
      " [7 8 5]]\n",
      "Matrix B:\n",
      " [[4 8 8]\n",
      " [3 6 5]\n",
      " [2 8 6]]\n",
      "Result (A*B):\n",
      " [[ 56 144 124]\n",
      " [ 47 106  93]\n",
      " [ 62 144 126]]\n"
     ]
    }
   ],
   "source": [
    "np.random.seed(42)\n",
    "\n",
    "#### START YOUR CODE #### 1pt each line\n",
    "A = np.random.randint(1,10,(3,3))\n",
    "B = np.random.randint(1,10,(3,3))\n",
    "result = A@B\n",
    "#### END YOUR CODE ####\n",
    "\n",
    "print(\"Matrix A:\\n\", A)\n",
    "print(\"Matrix B:\\n\", B)\n",
    "print(\"Result (A*B):\\n\", result)"
   ]
  },
  {
   "cell_type": "markdown",
   "id": "49ad04f2-9341-4ca0-a5d0-9235aaf2d568",
   "metadata": {},
   "source": [
    "# Section 2: Margin - Calculating the Distances $a$, $b$, and $c$\n",
    "This section includes 3 tasks:\n",
    "- Task 5 (5 pts): Calculate and interpret $a$\n",
    "- Task 6 (5 pts): Calculate and interpret $b$\n",
    "- Task 7 (5 pts): Calculate and interpret $c$ "
   ]
  },
  {
   "cell_type": "markdown",
   "id": "227041a6-69d3-4b78-b5e1-c52e2363472d",
   "metadata": {},
   "source": [
    "<div style=\"display: flex; align-items: center;\">\n",
    "    <img src=\"fall2025_hw1_fig1.png\" alt=\"Homework1 Figure1\" width=\"400\"/>\n",
    "    <p style=\"margin-left: 20px;\"> \n",
    "        In this figure, we see a hyperplane defined by the equation $\\theta^\\top x + \\theta_0$, along with a point $ x^* $ located away from the hyperplane. The figure also shows three labeled distances: $a, b, c$. <br><br>\n",
    "        Using this figure and the relationships between $ a $, $ b $, and $ c $, your task is to answer the following questions step-by-step to interpret and calculate these distances. Finally, use this information to compute the signed distance from the point $ x^* $ to the hyperplane.<br><br>\n",
    "    </p>\n",
    "</div>\n"
   ]
  },
  {
   "attachments": {},
   "cell_type": "markdown",
   "id": "e2b24972-88df-41f1-a6d7-336475957274",
   "metadata": {},
   "source": [
    "## Task 5 (5 points):  Write down the formula to calculate $a$, and determine its sign."
   ]
  },
  {
   "cell_type": "markdown",
   "id": "0ec908e5-9b51-49cc-82fa-45524d43d43e",
   "metadata": {},
   "source": [
    "**Instruction**: Write down your answer using the Markdown cell below:"
   ]
  },
  {
   "cell_type": "markdown",
   "id": "909c3024-cbf5-4738-be21-efb3d4183185",
   "metadata": {},
   "source": [
    "#### START YOUR ANSWER ####\n",
    "$a$ is the dot product of the vector $x^*$, starting at the origin, with the vector $\\theta$, and normalized by $\\|\\theta\\|$\n",
    "\n",
    " $a= \\frac{\\theta^T x^*}{\\|\\theta\\|}$ #4pts\n",
    " \n",
    " $a$ is ...(answer >0 or <0) #1pt\n",
    "\n",
    "#### END YOUR ANSWER ####"
   ]
  },
  {
   "cell_type": "markdown",
   "id": "3057a76f-b291-4bdb-b120-e92aa1124854",
   "metadata": {},
   "source": [
    "## Task 6 (5 points): Write down the formula to calculate $b$, and determine its sign."
   ]
  },
  {
   "cell_type": "markdown",
   "id": "45a11414-3305-45b6-8db8-c978a2fa9b93",
   "metadata": {},
   "source": [
    "**Instruction**: Write down your answer using the Markdown cell below:"
   ]
  },
  {
   "cell_type": "markdown",
   "id": "cfb400d3-51df-4ec6-9b42-cc084467624a",
   "metadata": {},
   "source": [
    "#### START YOUR ANSWER ####\n",
    " $\\theta^T x + \\theta_0 = 0$\n",
    "\n",
    " $\\theta^T (0) + \\theta_0 = b$\n",
    " \n",
    " Then normalize by $\\|\\theta\\|$, just like with a\n",
    "\n",
    " $b = \\frac{\\theta_0}{\\|\\theta\\|} $ #4pts\n",
    " \n",
    " $b$ is <0 #1pt\n",
    "\n",
    "#### END YOUR ANSWER ####"
   ]
  },
  {
   "cell_type": "markdown",
   "id": "24c4af08-bf07-4779-84c5-44ba1fce7533",
   "metadata": {},
   "source": [
    "## Task 7 (5 points): Write down the formula to calculate $c$, and determine its sign.\n",
    "**Hint**: Use the relationship between $a$ and $b$ to determine the value of $c$ (i.e., the **signed** distance from $x^*$ to the hyperplane)."
   ]
  },
  {
   "cell_type": "markdown",
   "id": "79ecc55b-7995-4a1c-8fc6-3111623a0605",
   "metadata": {},
   "source": [
    "**Instruction**: Write down your answer using the Markdown cell below:"
   ]
  },
  {
   "cell_type": "markdown",
   "id": "e6b19e6e-4795-4cba-9e45-d4181136c460",
   "metadata": {},
   "source": [
    "#### START YOUR ANSWER ####\n",
    "\n",
    " $c = a + b$ #4pts\n",
    "\n",
    " $c = \\frac{\\theta^T x^*}{\\|\\theta\\|} + \\frac{\\theta_0}{\\|\\theta\\|} $\n",
    " \n",
    " $c$ is > 0 #1pt\n",
    "\n",
    "#### END YOUR ANSWER ####"
   ]
  },
  {
   "cell_type": "markdown",
   "id": "b0daae4d-11bf-4c95-b7de-309abe6ea5f1",
   "metadata": {},
   "source": [
    "# Section 3: Algorithm Implementation\n",
    "This section includes 3 tasks:\n",
    "- Task 8 (15 pts): Implement the Perceptron Algorithm\n",
    "- Task 9 (15 pts): Implement the kNN Algorithm from Scratch\n",
    "- Task 10 (10 pts): Implement the kNN Algorithm using 'sklearn'"
   ]
  },
  {
   "cell_type": "markdown",
   "id": "20ac9e24-5634-4fd6-b322-9a85ea4c0425",
   "metadata": {},
   "source": [
    "## Task 8 (15 points): Implementing the Perceptron Algorithm\n",
    "Given the pseudocode, implement the Perceptron algorithm using the provided skeleton code in Python.\n",
    "**Pseudocode**:\n",
    "<div style=\"display: flex; align-items: center;\">\n",
    "    <img src=\"Fall2025_hw1_perceptron_alg.png\" alt=\"Homework1 Figure2\" width=\"300\"/>\n",
    "    <p style=\"margin-left: 20px;\"> \n",
    "    </p>\n",
    "</div>"
   ]
  },
  {
   "cell_type": "code",
   "execution_count": 4,
   "id": "3590e8cf-19ca-4415-bb3b-120d408089b8",
   "metadata": {},
   "outputs": [
    {
     "name": "stdout",
     "output_type": "stream",
     "text": [
      "[0. 0.]\n",
      "Final theta: [1094. -848.]\n",
      "Final theta_0: -970\n"
     ]
    },
    {
     "data": {
      "image/png": "[encoded data removed]",
      "text/plain": [
       "<Figure size 600x600 with 1 Axes>"
      ]
     },
     "metadata": {},
     "output_type": "display_data"
    }
   ],
   "source": [
    "import numpy as np\n",
    "import matplotlib.pyplot as plt\n",
    "\n",
    "# Dataset\n",
    "X = np.array([[4, 2], [2, 5], [3, 1], [0, 0], [1, 4], [5, 3], [6, 2], [2, 7], [3, 5], [4, 4]])\n",
    "y = np.array([1, -1, 1, -1, -1, 1, 1, -1, -1, 1])  # Labels\n",
    "\n",
    "\n",
    "#### START YOUR CODE ####\n",
    "# Initialize theta and theta_0 (1 pt each, 3pts in total)\n",
    "theta = np.zeros(X.shape[1])\n",
    "print(theta)\n",
    "theta_0 = 0\n",
    "tau = 1000  # Maximum number of iterations of your choice, keep it reasonable.\n",
    "\n",
    "def perceptron(X, y, theta, theta_0, tau): # (12pts)\n",
    "    \n",
    "    #TODO: Write your perceptron code here...\n",
    "    for t in range(tau):\n",
    "        changed = False\n",
    "        for i in range(len(X)):\n",
    "            if y[i] * np.dot(theta,X[i]) + theta_0 <= 0:\n",
    "                theta = theta + (y[i] * X[i])\n",
    "                theta_0 = theta_0 + y[i]\n",
    "                changed = True\n",
    "        if not changed:\n",
    "            break\n",
    "    return theta, theta_0\n",
    "\n",
    "#### END YOUR CODE ####\n",
    "\n",
    "## Do not change the following code\n",
    "# Train the perceptron\n",
    "final_theta, final_theta_0 = perceptron(X, y, theta, theta_0, tau)\n",
    "# Print final results\n",
    "print(\"Final theta:\", final_theta)\n",
    "print(\"Final theta_0:\", final_theta_0)\n",
    "# Plot your results\n",
    "pos = X[y == 1]\n",
    "neg = X[y == -1]\n",
    "plt.figure(figsize=(6,6))\n",
    "plt.scatter(pos[:,0], pos[:,1], c='blue', label='+1', marker='o')\n",
    "plt.scatter(neg[:,0], neg[:,1], c='red', label='-1', marker='x')\n",
    "\n",
    "# Plot decision boundary\n",
    "xx = np.linspace(min(X[:,0])-1, max(X[:,0])+1, 100)\n",
    "if final_theta[1] != 0:\n",
    "    yy = -(final_theta[0]*xx + final_theta_0) / final_theta[1]\n",
    "    plt.plot(xx, yy, 'k--', label='Decision boundary')\n",
    "\n",
    "plt.xlabel(\"Feature 1\")\n",
    "plt.ylabel(\"Feature 2\")\n",
    "plt.legend()\n",
    "plt.grid(True)\n",
    "plt.show()\n"
   ]
  },
  {
   "cell_type": "markdown",
   "id": "0f08ae95",
   "metadata": {},
   "source": [
    "## Task 9 (15 points): Implementing the kNN Algorithm From Scratch\n",
    "Given the pseudocode, implement the simple k-Nearest Neighbors algorithm using the provided skeleton code in Python.\n",
    "**Pseudocode**:\n",
    "<div style=\"display: flex; align-items: center;\">\n",
    "    <img src=\"fall2025_hw1_knn_alg.png\" alt=\"Homework1 Figure3\" width=\"700\"/>\n",
    "    <p style=\"margin-left: 20px;\"> \n",
    "    </p>\n",
    "</div>\n"
   ]
  },
  {
   "cell_type": "markdown",
   "id": "e286ea9b",
   "metadata": {},
   "source": [
    "**Expected output**:\n",
    "```\n",
    "Test Point: (5, 5)\n",
    "k-Nearest Neighbors: [(np.float64(1.0), 1), (np.float64(2.23606797749979), 0), (np.float64(2.23606797749979), 0), (np.float64(2.23606797749979), 1), (np.float64(2.8284271247461903), 1)]\n",
    "Predicted Class: 1\n",
    "```"
   ]
  },
  {
   "cell_type": "markdown",
   "id": "223849ad",
   "metadata": {},
   "source": [
    "## Load data"
   ]
  },
  {
   "cell_type": "code",
   "execution_count": 6,
   "id": "e91239d1",
   "metadata": {},
   "outputs": [],
   "source": [
    "dataset = [\n",
    "    # Class 0 \n",
    "    (1, 2, 0), (2, 1, 0), (2, 3, 0), (3, 2, 0), (1, 4, 0),\n",
    "    (3, 1, 0), (4, 2, 0), (2, 5, 0), (3, 4, 0), (4, 3, 0),\n",
    "\n",
    "    # Class 1 \n",
    "    (6, 5, 1), (7, 6, 1), (8, 5, 1), (7, 7, 1), (6, 8, 1),\n",
    "    (8, 7, 1), (9, 6, 1), (7, 8, 1), (8, 9, 1), (9, 8, 1)\n",
    "]\n",
    "\n",
    "# Test point\n",
    "test_point = (5, 5)"
   ]
  },
  {
   "cell_type": "code",
   "execution_count": 7,
   "id": "970af161",
   "metadata": {},
   "outputs": [],
   "source": [
    "# Instantiate and train the KNN classifier\n",
    "k = 5  # Number of neighbors"
   ]
  },
  {
   "cell_type": "markdown",
   "id": "a24cfce1",
   "metadata": {},
   "source": [
    "## Implement kNNClassifier from Scratch"
   ]
  },
  {
   "cell_type": "code",
   "execution_count": 9,
   "id": "0990fdde",
   "metadata": {},
   "outputs": [
    {
     "name": "stdout",
     "output_type": "stream",
     "text": [
      "Test Point: (5, 5)\n",
      "k-Nearest Neighbors: [(np.float64(1.0), 1), (np.float64(2.23606797749979), 0), (np.float64(2.23606797749979), 0), (np.float64(2.23606797749979), 1), (np.float64(2.8284271247461903), 1)]\n",
      "Predicted Class: 1\n"
     ]
    }
   ],
   "source": [
    "import numpy as np\n",
    "from collections import Counter\n",
    "import matplotlib.pyplot as plt\n",
    "\n",
    "#### START YOUR CODE ####\n",
    "# Step 1: Compute Euclidean distance from test_point to all points in dataset\n",
    "distances = []\n",
    "#TODO: Use for loop to compute Euclidean distance from test_point to all points in dataset # 3pts\n",
    "for point in dataset:\n",
    "    dist = np.sqrt((point[0]-test_point[0])**2 + (point[1]-test_point[1])**2)\n",
    "    distances.append((dist, point[2]))\n",
    "# Step 2: Sort distances in ascending order\n",
    "#TODO: Sort distances in ascending order 3pts\n",
    "distances.sort(key=lambda x: x[0])\n",
    "# Step 3: Select k nearest neighbors\n",
    "#TODO: Select k nearest neighbors 3pts\n",
    "k_nearest = distances[:k]\n",
    "# Step 4: Count the most common class label among k neighbors using counter \n",
    "labels = [label for _, label in k_nearest] # get all labels of the k nearest neighbors 3pts\n",
    "predicted_class = Counter(labels).most_common(1)[0][0] #Find the most common class label as the prediction 3pts\n",
    "#### END YOUR CODE ####\n",
    "\n",
    "## Do not change the following code\n",
    "# Print results\n",
    "print(f\"Test Point: {test_point}\")\n",
    "print(f\"k-Nearest Neighbors: {k_nearest}\")\n",
    "print(f\"Predicted Class: {predicted_class}\")"
   ]
  },
  {
   "cell_type": "markdown",
   "id": "18850a25",
   "metadata": {},
   "source": [
    "## Task 10 (10 points): Implementing the kNN Algorithm using 'sklearn'\n",
    "In this task, you will practice implementing K-Nearest Neighbors (KNN) using `sklearn`. This includes functionality for a basic KNN classifier and evaluate its performance on iris dataset.\n",
    "\n",
    "You can install `sklearn` by running the following command in terminal:\n",
    "\n",
    "```\n",
    "!pip install scikit-learn\n",
    "```"
   ]
  },
  {
   "cell_type": "markdown",
   "id": "e48613c7",
   "metadata": {},
   "source": [
    "## Load Data"
   ]
  },
  {
   "cell_type": "code",
   "execution_count": 10,
   "id": "34c03732",
   "metadata": {},
   "outputs": [],
   "source": [
    "from sklearn.datasets import load_iris\n",
    "from sklearn.model_selection import train_test_split\n",
    "\n",
    "data = load_iris()\n",
    "X, y = data.data, data.target\n",
    "    \n",
    "# Split the data into training and testing sets\n",
    "X_train, X_test, y_train, y_test = train_test_split(X, y, test_size=0.2, random_state=42)"
   ]
  },
  {
   "cell_type": "code",
   "execution_count": 11,
   "id": "84bf555c",
   "metadata": {},
   "outputs": [],
   "source": [
    "# Instantiate and train the KNN classifier\n",
    "k = 3  # Number of neighbors"
   ]
  },
  {
   "cell_type": "markdown",
   "id": "6f1d277a",
   "metadata": {},
   "source": [
    "## Implement kNNClassifier using 'sklearn'"
   ]
  },
  {
   "cell_type": "code",
   "execution_count": 12,
   "id": "ba0be459",
   "metadata": {},
   "outputs": [
    {
     "name": "stdout",
     "output_type": "stream",
     "text": [
      "Predicted Labels: [1 0 2 1 1 0 1 2 1 1 2 0 0 0 0 1 2 1 1 2 0 2 0 2 2 2 2 2 0 0]\n",
      "Actual Labels:    [1 0 2 1 1 0 1 2 1 1 2 0 0 0 0 1 2 1 1 2 0 2 0 2 2 2 2 2 0 0]\n",
      "Accuracy: 100.00%\n"
     ]
    }
   ],
   "source": [
    "import numpy as np\n",
    "from sklearn.model_selection import train_test_split\n",
    "from sklearn.neighbors import KNeighborsClassifier\n",
    "from sklearn.datasets import make_classification\n",
    "from sklearn.metrics import accuracy_score\n",
    "\n",
    "\n",
    "# Initialize and train the k-NN classifier\n",
    "knn_classifier = KNeighborsClassifier(n_neighbors=k) #3 pts\n",
    "knn_classifier.fit(X_train, y_train) #3 pts\n",
    "\n",
    "# Predict labels for the test set\n",
    "predictions = knn_classifier.predict(X_test) #3 pts\n",
    "\n",
    "# Calculate accuracy\n",
    "accuracy = accuracy_score(y_test, predictions) #1 pt\n",
    "\n",
    "# Evaluate the accuracy\n",
    "### DO NOT CHANGE THE CODE BELOW ###\n",
    "print(\"Predicted Labels:\", predictions)\n",
    "print(\"Actual Labels:   \", y_test)\n",
    "print(f\"Accuracy: {accuracy * 100:.2f}%\")\n"
   ]
  },
  {
   "cell_type": "markdown",
   "id": "f118394a-dfcd-4a71-88ee-96dd665c11e7",
   "metadata": {},
   "source": [
    "## Section 4: Logistic Regression Objective\n",
    "This section includes 5 tasks, marked as TODO/None in the code:\n",
    "\n",
    "**TODOs in the code**\n",
    "- Task 11.1: Implement the logistic function (5 points)\n",
    "- Task 11.2: Compute the Negative Log-Likelihood Loss Function (5 points)\n",
    "- Task 11.3: Implement the Logistic Regression Objective Function (5 points)\n",
    "- Task 11.4: Calculate the objective for each value of theta (5 points)\n",
    "- Task 11.5: Create plot of the objective function vs theta (5 points)"
   ]
  },
  {
   "cell_type": "markdown",
   "id": "a51ae612",
   "metadata": {},
   "source": [
    "\n",
    "## Task 11 (25 points): \n",
    "**Problem Description**\n",
    "\n",
    "You are provided with a dataset sampled from a logistic function. Your task is to implement and plot the logistic regression cost function $ J_{\\text{lr}} $.\n",
    "\n",
    "The logistic regression objective is defined as:\n",
    "\n",
    "$$\n",
    "J_{\\text{lr}}(\\theta, \\theta_0) = \\frac{1}{n} \\sum_{i=1}^{n} L_{\\text{nll}}\\left(\\sigma(\\theta^\\top x^{(i)} + \\theta_0), y^{(i)}\\right)\n",
    "$$\n",
    "\n",
    "where the negative log-likelihood loss function $ L_{\\text{nll}} $ is:\n",
    "\n",
    "$$\n",
    "L_{\\text{nll}}(g, a) = -\\left( \\mathbb{1}(a = +1) \\log(g) + \\mathbb{1}(a \\neq +1) \\log(1 - g) \\right)\n",
    "$$\n",
    "\n"
   ]
  },
  {
   "cell_type": "code",
   "execution_count": 13,
   "id": "4e9d0203-6080-4a11-8b16-b567eb8cb60f",
   "metadata": {},
   "outputs": [],
   "source": [
    "# Given dataset dataset (X,y) = [(x_1,y_1), ... (x_m,y_m)]. \n",
    "# X contains features of all m data points, y contains labels for all m data points.\n",
    "import numpy as np\n",
    "np.random.seed(0)\n",
    "m = 100  # Number of points\n",
    "X = np.random.randn(m)  # Single feature (random)\n",
    "y = ((1 / (1 + np.exp(-X))) > 0.5).astype(int) * 2 - 1  # Labels (+1 or -1)"
   ]
  },
  {
   "cell_type": "code",
   "execution_count": 17,
   "id": "c4005adb-cb9f-4485-be81-562f55db4313",
   "metadata": {},
   "outputs": [
    {
     "data": {
      "image/png": "[encoded data removed]",
      "text/plain": [
       "<Figure size 640x480 with 1 Axes>"
      ]
     },
     "metadata": {},
     "output_type": "display_data"
    }
   ],
   "source": [
    "import numpy as np\n",
    "import matplotlib.pyplot as plt\n",
    "\n",
    "\n",
    "#### START YOUR CODE ####\n",
    "# Task 11.1: Define the Logistic Function\n",
    "def logistic_function(z):\n",
    "    \"\"\"\n",
    "    Compute the logistic function of z.\n",
    "    Fill in the function to compute the logistic function.\n",
    "    \"\"\"\n",
    "    # TODO: Implement the logistic function \n",
    "    return 1 / (1 + np.exp(-z))  # Placeholder 5pts\n",
    "\n",
    "# Task 11.2: Define the Negative Log-Likelihood Loss Function\n",
    "def negative_log_likelihood(g, a):\n",
    "    \"\"\"\n",
    "    Compute the negative log-likelihood loss.\n",
    "    g: Predicted probability (logistic output)\n",
    "    a: Actual label (+1 or -1)\n",
    "    \"\"\"\n",
    "    # TODO: Fill in the condition to compute the loss for positive and negative labels\n",
    "    if a == 1:\n",
    "        return -np.log(g)\n",
    "    else:\n",
    "        return -np.log(1 - g)\n",
    "\n",
    "# Task 11.3: Implement the Logistic Regression Objective Function\n",
    "def logistic_regression_objective(X, y, theta, theta_0):\n",
    "    \"\"\"\n",
    "    Compute the logistic regression objective J_lr for the dataset X, y.\n",
    "    X: Dataset features\n",
    "    y: Dataset labels\n",
    "    theta: Weights (parameters)\n",
    "    theta_0: Bias term\n",
    "    \"\"\"\n",
    "    m = len(y)  # Number of samples\n",
    "    total_loss = 0\n",
    "    \n",
    "    # Loop over all examples\n",
    "    for i in range(m):\n",
    "        z = np.dot(X[i], theta) + theta_0  # raw linear prediction 1 pts\n",
    "        g = logistic_function(z)  # Logistic prediction\n",
    "        \n",
    "        # TODO: Add the loss to the total objective 2pts\n",
    "        total_loss += negative_log_likelihood(g, y[i])  # Compute the loss and add it here.\n",
    "    # Return the average objective\n",
    "    return total_loss / m  # Placeholder 2pts\n",
    "\n",
    "\n",
    "\n",
    "# Varying theta to plot the objective function as a function of theta\n",
    "theta_values = np.linspace(-5, 5, 100)  # Values of theta to test\n",
    "theta_0 = 0  # Fixing bias at 0\n",
    "\n",
    "# Task 11.4: Calculate the objective for each value of theta. 5pts\n",
    "objectives = []\n",
    "# TODO: Calculate the objective for each value of theta, and store all of them in a list\n",
    "for theta in theta_values:\n",
    "    obj = logistic_regression_objective(X, y, np.array([theta]), theta_0)\n",
    "    objectives.append(obj)\n",
    "# Task 11.5: Create plot of the objective function vs theta\n",
    "# TODO: Create plot of the objective function vs theta (3pts). Name x label 'Theta' (1pt), y label 'Objective'(1pt)\n",
    "plt.plot(theta_values, objectives)\n",
    "plt.xlabel('Theta')\n",
    "plt.ylabel('Objective')\n",
    "\n",
    "#### END YOUR CODE ####\n",
    "# Display the subplots\n",
    "plt.tight_layout()\n",
    "plt.show()\n"
   ]
  }
 ],
 "metadata": {
  "kernelspec": {
   "display_name": "CS549_Win",
   "language": "python",
   "name": "python3"
  },
  "language_info": {
   "codemirror_mode": {
    "name": "ipython",
    "version": 3
   },
   "file_extension": ".py",
   "mimetype": "text/x-python",
   "name": "python",
   "nbconvert_exporter": "python",
   "pygments_lexer": "ipython3",
   "version": "3.13.1"
  }
 },
 "nbformat": 4,
 "nbformat_minor": 5
}
